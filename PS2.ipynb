{
 "cells": [
  {
   "cell_type": "markdown",
   "id": "59749688-e121-4c79-b60b-83fbc539465a",
   "metadata": {},
   "source": [
    "## Question 1 ##\n",
    "\n",
    "Consider the following Python module:\n",
    "\n",
    "a = 0\n",
    "\n",
    "def b():\n",
    "\n",
    "global a\n",
    "\n",
    "a = c(a)\n",
    "\n",
    "def c(a):\n",
    "\n",
    "return a + 2\n",
    "\n",
    "After importing the module into the interpreter, you execute:\n",
    "* b()\n",
    "* b()\n",
    "* b()\n",
    "  \n",
    "a\n",
    "\n",
    "?"
   ]
  },
  {
   "cell_type": "code",
   "execution_count": 1,
   "id": "2897b181-72c4-4221-89f9-5b317c1a530d",
   "metadata": {},
   "outputs": [
    {
     "data": {
      "text/plain": [
       "6"
      ]
     },
     "execution_count": 1,
     "metadata": {},
     "output_type": "execute_result"
    }
   ],
   "source": [
    "# testing the code\n",
    "a = 0\n",
    "def b():\n",
    "    \n",
    "    global a\n",
    "    a = c(a) \n",
    "    \n",
    "def c(a):\n",
    "    return a+2\n",
    "\n",
    "b() # a =0+2 => 2\n",
    "b() # a = 2+2 => 4\n",
    "b() # a = 4+2 =>6\n",
    "a"
   ]
  },
  {
   "cell_type": "markdown",
   "id": "7050e241-edfc-40e5-963e-64bff3e1d291",
   "metadata": {},
   "source": [
    "## What value is displayed when the last expression (a) is evaluated? Explain your answer by indicating what happens in every executed statement.##\n",
    "Answer:-\n",
    "\n",
    "* Step 1: The function b() is called, which updates the global variable a. Since a starts at 0, it becomes c(0), which is 0 + 2, so a is now 2.\n",
    "\n",
    "* Step 2: Calling b() again updates a to c(2), which is 2 + 2, so a becomes 4.\n",
    "\n",
    "* Step 3: Calling b() once more updates a to c(4), which is 4 + 2, so a is now 6.\n",
    "\n",
    "* Step 4: The final value of a is 6, and executing a will print 6."
   ]
  },
  {
   "cell_type": "markdown",
   "id": "52db7a77-9b4e-408e-839d-6729bec83fd5",
   "metadata": {},
   "source": [
    "## Question 2 ##\n",
    "Function fileLength(), given to you, takes the name of a file as input and returns\n",
    "the length of the file:\n",
    "* fileLength('midterm.py')\n",
    "  \n",
    "284\n",
    "* fileLength('idterm.py')\n",
    "\n",
    "Traceback (most recent call last):\n",
    "File \"<pyshell#34>\", line 1, in <module>\n",
    "fileLength('idterm.py')\n",
    "File \"/Users/me/midterm.py\", line 3, in fileLength\n",
    "infile = open(filename)\n",
    "FileNotFoundError: [Errno 2] No such file or directory:\n",
    "'idterm.py'\n",
    "As shown above, if the file cannot be found by the interpreter or if it cannot be read\n",
    "as a text file, an exception will be raised. Modify function fileLength() so that a\n",
    "friendly message is printed instead:\n",
    "\n",
    "* fileLength('midterm.py')\n",
    "  \n",
    "358\n",
    "* fileLength('idterm.py')\n",
    "  \n",
    "File idterm.py not found."
   ]
  },
  {
   "cell_type": "code",
   "execution_count": 57,
   "id": "603edfea-b209-4da9-b214-8ce568a59047",
   "metadata": {},
   "outputs": [],
   "source": [
    "def fileLength(filename):\n",
    "    try:\n",
    "        with open(filename, 'r') as infile:\n",
    "            contents = infile.read()\n",
    "            length = len(contents)\n",
    "            print(f\"The file '{filename}' contains {length} characters.\")\n",
    "    except FileNotFoundError:\n",
    "        print(f\"Sorry, the file '{filename}' was not found.\")\n",
    "    except IOError:\n",
    "        print(f\"Sorry, the file '{filename}' could not be read.\")\n"
   ]
  },
  {
   "cell_type": "code",
   "execution_count": 63,
   "id": "404aece2-78c6-4d1e-ab6a-c40488b8ef85",
   "metadata": {},
   "outputs": [
    {
     "name": "stdout",
     "output_type": "stream",
     "text": [
      "The file 'midterm.py' contains 123 characters.\n"
     ]
    }
   ],
   "source": [
    "fileLength('midterm.py')"
   ]
  },
  {
   "cell_type": "code",
   "execution_count": 65,
   "id": "0620df3e-17c5-41f3-844c-f9c309cdeac2",
   "metadata": {},
   "outputs": [
    {
     "name": "stdout",
     "output_type": "stream",
     "text": [
      "Sorry, the file 'idterm.py' was not found.\n"
     ]
    }
   ],
   "source": [
    "fileLength('idterm.py')"
   ]
  },
  {
   "cell_type": "markdown",
   "id": "224132b9-07e9-4346-9e04-2088dd423bea",
   "metadata": {},
   "source": [
    "## Question 3 ##\n",
    "Write a class named Marsupial that can be used as shown below:\n",
    "* m = Marsupial()\n",
    "* m.put_in_pouch('doll')\n",
    "* m.put_in_pouch('firetruck')\n",
    "* m.put_in_pouch('kitten')\n",
    "* m.pouch_contents()\n",
    "['doll', 'firetruck', 'kitten']\n",
    "Now write a class named Kangaroo as a subclass of Marsupial that inherits all the\n",
    "attributes of Marsupial and also:\n",
    "a. extends the Marsupial __init__ constructor to take, as input, the\n",
    "coordinates x and y of the Kangaroo object,\n",
    "b. supports method jump that takes number values dx and dy as input and\n",
    "moves the kangaroo by dx units along the x-axis and by dy units along the y-\n",
    "axis, and\n",
    "c. overloads the __str__ operator so it behaves as shown below.\n",
    "* k = Kangaroo(0,0)\n",
    "* print(k)\n",
    "I am a Kangaroo located at coordinates (0,0)\n",
    "* k.put_in_pouch('doll')\n",
    "* k.put_in_pouch('firetruck')\n",
    "* k.put_in_pouch('kitten')\n",
    "* k.pouch_contents()\n",
    "['doll', 'firetruck', 'kitten']\n",
    "* k.jump(1,0)\n",
    "* k.jump(1,0)\n",
    "* k.jump(1,0)\n",
    "* print(k)\n",
    "I am a Kangaroo located at coordinates (3,0)"
   ]
  },
  {
   "cell_type": "code",
   "execution_count": 6,
   "id": "292ef0b8-1486-421d-95bb-90796346b5e2",
   "metadata": {},
   "outputs": [
    {
     "name": "stdout",
     "output_type": "stream",
     "text": [
      "['doll', 'firetruck', 'kitten']\n",
      "I am Kangaroo located at coordinates (0,0)\n",
      "\n",
      "I am Kangaroo located at coordinates (3,0)\n"
     ]
    }
   ],
   "source": [
    "class Marsupial: # calss begin\n",
    "    def __init__(self): # constructor\n",
    "        self.pouch =[] \n",
    "        \n",
    "    def put_m_pouch(self, item): # method define\n",
    "        \n",
    "        self.pouch.append(item)\n",
    "        \n",
    "    def pouch_contents(self):\n",
    "        return self.pouch\n",
    "    \n",
    "m = Marsupial() # instance creating\n",
    "m.put_m_pouch('doll')\n",
    "m.put_m_pouch('firetruck')\n",
    "m.put_m_pouch('kitten')\n",
    "print(m.pouch_contents())\n",
    "              \n",
    "\n",
    "class Kangaroo(Marsupial):\n",
    "    \n",
    "    def __init__(self, x,y):\n",
    "        \n",
    "        super().__init__() # calling constructor of super class\n",
    "        \n",
    "        self.x =x \n",
    "        self.y =y\n",
    "        \n",
    "    def jumps(self, dx,dy):\n",
    "        self.x+=dx\n",
    "        self.y+=dy\n",
    "        \n",
    "    def __str__(self):\n",
    "        return f\"I am Kangaroo located at coordinates ({self.x},{self.y})\"\n",
    "    \n",
    "k = Kangaroo(0,0)\n",
    "\n",
    "print(k)\n",
    "k.put_m_pouch('doll')\n",
    "k.put_m_pouch('firetruck')\n",
    "k.put_m_pouch('kitten')\n",
    "\n",
    "k.pouch_contents()\n",
    "print()\n",
    "k.jumps(1,0)\n",
    "k.jumps(1,0)\n",
    "k.jumps(1,0)\n",
    "print(k)"
   ]
  },
  {
   "cell_type": "markdown",
   "id": "9a188e5e-e523-4371-a4a0-00500522d3a3",
   "metadata": {},
   "source": [
    "## Question 4 ##\n",
    "Write function collatz() that takes a positive integer x as input and prints the\n",
    "Collatz sequence starting at x. A Collatz sequence is obtained by repeatedly applying\n",
    "this rule to the previous number x in the sequence:\n",
    "x = { 𝑥/2 𝑖𝑓 𝑥 𝑖𝑠 𝑒𝑣𝑒𝑛\n",
    "3𝑥 + 1 𝑖𝑓 𝑥 𝑖𝑠 𝑜𝑑𝑑\n",
    "Your function should stop when the sequence gets to number 1. Your\n",
    "implementation must be recursive, without any loops.\n",
    "* collatz(1)\n",
    "\n",
    "* collatz(10)\n"
   ]
  },
  {
   "cell_type": "code",
   "execution_count": 75,
   "id": "ffb0311f-a161-48dd-a4ba-76c608bedf27",
   "metadata": {},
   "outputs": [],
   "source": [
    "def collatz(x):\n",
    "    \n",
    "    print(x)\n",
    "    \n",
    "    if x ==1:\n",
    "        return \n",
    "    \n",
    "    elif x%2==0:\n",
    "        collatz(x//2) # recursive (calls itself)\n",
    "        \n",
    "    else:\n",
    "        collatz(3*x+1)"
   ]
  },
  {
   "cell_type": "code",
   "execution_count": 79,
   "id": "a3737aa7-e5f8-4947-98bf-e187bf2e68c8",
   "metadata": {},
   "outputs": [
    {
     "name": "stdout",
     "output_type": "stream",
     "text": [
      "1\n"
     ]
    }
   ],
   "source": [
    "collatz(1) #function call"
   ]
  },
  {
   "cell_type": "code",
   "execution_count": 81,
   "id": "1a4d6c6e-24b1-4e41-995e-65cce32e8978",
   "metadata": {},
   "outputs": [
    {
     "name": "stdout",
     "output_type": "stream",
     "text": [
      "10\n",
      "5\n",
      "16\n",
      "8\n",
      "4\n",
      "2\n",
      "1\n"
     ]
    }
   ],
   "source": [
    "collatz(10)"
   ]
  },
  {
   "cell_type": "markdown",
   "id": "194f1b88-bdab-447c-8c5d-34d52d3d2bcd",
   "metadata": {},
   "source": [
    "## Question 5 ##\n",
    "Write a recursive method binary() that takes a non-negative\n",
    "integer n and prints the binary representation of integer n.\n",
    "* binary(0)\n",
    "* binary(1)\n",
    "* binary(3)\n",
    "* binary(9)"
   ]
  },
  {
   "cell_type": "code",
   "execution_count": 14,
   "id": "4e1b16c4-784d-4a36-b9bb-9a787c04e50d",
   "metadata": {},
   "outputs": [
    {
     "name": "stdout",
     "output_type": "stream",
     "text": [
      "0 \n",
      "1 \n",
      "1 1 \n",
      "1 0 0 1 "
     ]
    }
   ],
   "source": [
    "def binary(n):\n",
    "    \n",
    "    if n>1:\n",
    "        \n",
    "        binary(n//2) #if condition is true it calls itsel with n//2\n",
    "        \n",
    "    print(n%2, end =' ') #remainder is printed \n",
    "    \n",
    "binary(0)\n",
    "print()\n",
    "binary(1)\n",
    "print()\n",
    "binary(3)\n",
    "print()\n",
    "binary(9)"
   ]
  },
  {
   "cell_type": "markdown",
   "id": "184aa927-8d64-401f-bb6e-9927fe57ab32",
   "metadata": {},
   "source": [
    "## Question 6 ##\n",
    "Implement a class named HeadingParser that can be used to parse an HTML\n",
    "document, and retrieve and print all the headings in the document. You should\n",
    "implement your class as a subclass of HTMLParser, defined in Standard Library\n",
    "module html.parser. When fed a string containing HTML code, your class should\n",
    "print the headings, one per line and in the order in which they appear in the\n",
    "document. Each heading should be indented as follows: an h1 heading should have\n",
    "indentation 0, and h2 heading should have indentation 1, etc. Test your\n",
    "implementation using w3c.html.\n",
    "* infile = open('w3c.html')\n",
    "* content = infile.read()\n",
    "* infile.close()\n",
    "* hp = HeadingParser()\n",
    "* hp.feed(content)\n",
    "W3C Mission\n",
    "Principles"
   ]
  },
  {
   "cell_type": "code",
   "execution_count": 16,
   "id": "7e6ef846-7b30-4edb-83d2-fa3eeae57603",
   "metadata": {},
   "outputs": [
    {
     "name": "stdout",
     "output_type": "stream",
     "text": [
      "W3C Mission\n",
      "  Principles\n"
     ]
    }
   ],
   "source": [
    "from html.parser import HTMLParser #importing module\n",
    " \n",
    "class HeadingParser(HTMLParser): #new class\n",
    "    \n",
    "    def __init__(self):\n",
    "        super().__init__()\n",
    "        self.inside_heading = False\n",
    "        self.current_heading_level = None\n",
    "        \n",
    "    def handle_starttag(self, tag,attrs): #method check for start tag\n",
    "        if tag.startswith('h') and tag[1:].isdigit():\n",
    "            self.inside_heading = True\n",
    "            self.current_heading_level = int(tag[1:])\n",
    "            \n",
    "    def handle_endtag(self,tag): #method check for end tag\n",
    "        if tag.startswith('h') and tag[1:].isdigit():\n",
    "            self.inside_heading = False\n",
    "            self.current_heading_level = None\n",
    "            \n",
    "    def handle_data(self, data): # this method set indentation \n",
    "        if self.inside_heading and self.current_heading_level is not None:\n",
    "            indentation = ' '*(self.current_heading_level-1)*2 \n",
    "            print(f\"{indentation}{data}\")\n",
    "            \n",
    "with open(\"w3c.html\", 'r') as infile: # file read\n",
    "    \n",
    "    content = infile.read()\n",
    "    infile.close()\n",
    "    \n",
    "hp = HeadingParser()\n",
    "hp.feed(content)"
   ]
  },
  {
   "cell_type": "markdown",
   "id": "b59f89a1-5178-4aef-9343-8bfab46ea985",
   "metadata": {},
   "source": [
    "## Question 7 ##\n",
    "Implement recursive function webdir() that takes as input: a URL (as a string) and\n",
    "non-negative integers depth and indent. Your function should visit every web\n",
    "page reachable from the starting URL web page in depth clicks or less, and print\n",
    "each web page's URL. As shown below, indentation, specified by indent, should\n",
    "be used to indicate the depth of a URL.\n",
    "\n",
    "* webdir('http://reed.cs.depaul.edu/lperkovic/csc242/test1.html'\n",
    ", 2, 0)\n",
    "http://reed.cs.depaul.edu/lperkovic/csc242/test1.html\n",
    "http://reed.cs.depaul.edu/lperkovic/csc242/test2.html\n",
    "http://reed.cs.depaul.edu/lperkovic/csc242/test4.html\n",
    "http://reed.cs.depaul.edu/lperkovic/csc242/test3.html\n",
    "http://reed.cs.depaul.edu/lperkovic/csc242/test4.html"
   ]
  },
  {
   "cell_type": "code",
   "execution_count": 18,
   "id": "736e87e5-0404-4d01-b3eb-5592e269cd5f",
   "metadata": {},
   "outputs": [
    {
     "name": "stdout",
     "output_type": "stream",
     "text": [
      "http://reed.cs.depaul.edu/lperkovic/csc242/test1.html\n"
     ]
    }
   ],
   "source": [
    "import requests\n",
    "from bs4 import BeautifulSoup # web scrape library\n",
    "\n",
    "def webdir(url, depth, indent):\n",
    "    if depth == 0:\n",
    "        return\n",
    "\n",
    "    try:\n",
    "        response = requests.get(url)\n",
    "        soup = BeautifulSoup(response.text, 'html.parser')\n",
    "\n",
    "        \n",
    "        print(' ' * indent + url) # Print the current URL with appropriate indentation\n",
    "\n",
    "        # Extract links from the page and recursively call webdir for each link\n",
    "        links = soup.find_all('a', href=True)\n",
    "        for link in links:\n",
    "            next_url = link['href']\n",
    "            webdir(next_url, depth - 1, indent + 4)\n",
    "\n",
    "    except Exception as e:\n",
    "        print(f\"Error accessing {url}: {e}\")\n",
    "\n",
    "\n",
    "webdir('http://reed.cs.depaul.edu/lperkovic/csc242/test1.html', 2, 0)"
   ]
  },
  {
   "cell_type": "markdown",
   "id": "e8abfcb6-8fca-46f1-be95-649820d32ad5",
   "metadata": {},
   "source": [
    "## Question 8 ##\n",
    "Write SQL queries on the below database table that return:\n",
    "\n",
    "a) All the temperature data.\n",
    "\n",
    "b) All the cities, but without repetition.\n",
    "\n",
    "c) All the records for India.\n",
    "\n",
    "d) All the Fall records.\n",
    "\n",
    "e) The city, country, and season for which the average rainfall is between 200\n",
    "and 400 millimeters.\n",
    "\n",
    "f) The city and country for which the average Fall temperature is above 20\n",
    "degrees, in increasing temperature order.\n",
    "\n",
    "g) The total annual rainfall for Cairo.\n",
    "\n",
    "h) The total rainfall for each season"
   ]
  },
  {
   "cell_type": "code",
   "execution_count": null,
   "id": "d9eaef71-e51c-4219-818a-86f04e0fc52a",
   "metadata": {},
   "outputs": [],
   "source": [
    "SELECT Temperature \n",
    "FROM Weather_db;\n",
    "\n",
    "\n",
    "SELECT DISTINCT City \n",
    "FROM Weather_db;\n",
    "\n",
    "\n",
    "SELECT * \n",
    "FROM Weather_db WHERE Country = 'India';\n",
    "\n",
    "\n",
    "SELECT * \n",
    "FROM Weather_db WHERE Season = 'Fall';\n",
    "\n",
    "\n",
    "SELECT City, Country, Season FROM Weather_db GROUP BY City, Country, Season HAVING AVG( Rainfall) BETWEEN 200 AND 400;\n",
    "\n",
    "\n",
    "SELECT City, Country \n",
    "FROM Weather_db WHERE Season ='Fall' \n",
    "GROUP BY City, Country \n",
    "HAVING AVG(Temperature)>20 \n",
    "ORDER By AVG(Temperature) ASC;\n",
    "\n",
    "\n",
    "SELECT SUM (Rainfall) AS TotalRainfall\n",
    "FROM Weather_db WHERE City ='Cairo'\n",
    "\n",
    "\n",
    "SELECT Season, SUM(RainFall) AS TotalRainfall FROM Weather_db GROUP BY Season;"
   ]
  },
  {
   "cell_type": "markdown",
   "id": "c892b0ee-3828-43eb-9175-bc21821045b3",
   "metadata": {},
   "source": [
    "Question 9\n",
    "* Suppose list words is defined as follows:\n",
    "* words = ['The', 'quick', 'brown', 'fox', 'jumps', 'over',\n",
    "'the', 'lazy', 'dog']\n",
    "Write list comprehension expressions that use list words and generate the following\n",
    "lists:\n",
    "\n",
    "a) ['THE', 'QUICK', 'BROWN', 'FOX', 'JUMPS', 'OVER', 'THE',\n",
    "'LAZY', 'DOG']\n",
    "\n",
    "b) ['the', 'quick', 'brown', 'fox', 'jumps', 'over', 'the',\n",
    "'lazy', 'dog']\n",
    "\n",
    "c) [3, 5, 5, 3, 5, 4, 3, 4, 3] (the list of lengths of words in list\n",
    "words).\n",
    "\n",
    "d) [['THE', 'the', 3], ['QUICK', 'quick', 5], ['BROWN',\n",
    "'brown', 5], ['FOX', 'fox', 3], ['JUMPS', 'jumps', 5],\n",
    "['OVER', 'over', 4], ['THE', 'the', 3], ['LAZY', 'lazy',\n",
    "4], ['DOG', 'dog', 3]] (the list containing a list for every word of list\n",
    "words, where each list contains the word in uppercase and lowercase and the\n",
    "length of the word.)\n",
    "\n",
    "e) ['The', 'quick', 'brown', 'fox', 'jumps', 'over', 'the',\n",
    "'lazy', 'dog'] (the list of words in list words containing 4 or more\n",
    "characters.)"
   ]
  },
  {
   "cell_type": "code",
   "execution_count": 98,
   "id": "614625ec-27dc-4c2d-8f98-b75374bff2ee",
   "metadata": {},
   "outputs": [
    {
     "name": "stdout",
     "output_type": "stream",
     "text": [
      "['THE', 'QUICK', 'BROWN', 'FOX', 'JUMPS', 'OVER', 'THE', 'LAZY', 'DOG']\n"
     ]
    }
   ],
   "source": [
    "words = ['The', 'quick', 'brown', 'fox', 'jumps', 'over', 'the', 'lazy', 'dog']\n",
    "         \n",
    "a_results = [data.upper() for data in words]\n",
    "\n",
    "b_results = [data.lower() for data in words]\n",
    "\n",
    "c_results = [len(data) for data in words]\n",
    "\n",
    "d_results = [[data.upper(), data.lower(), len(data)] for data in words]\n",
    "         \n",
    "e_results = [data for data in words if len(data)>=4]\n",
    "\n",
    "print(a_results)"
   ]
  },
  {
   "cell_type": "code",
   "execution_count": 100,
   "id": "c6194911-5cbd-44a0-9d59-1bc067006969",
   "metadata": {},
   "outputs": [
    {
     "name": "stdout",
     "output_type": "stream",
     "text": [
      "['the', 'quick', 'brown', 'fox', 'jumps', 'over', 'the', 'lazy', 'dog']\n"
     ]
    }
   ],
   "source": [
    "print(b_results)"
   ]
  },
  {
   "cell_type": "code",
   "execution_count": 102,
   "id": "8516ab53-a8e7-44af-8fc3-d3f2866d33ae",
   "metadata": {},
   "outputs": [
    {
     "name": "stdout",
     "output_type": "stream",
     "text": [
      "[3, 5, 5, 3, 5, 4, 3, 4, 3]\n"
     ]
    }
   ],
   "source": [
    "print(c_results)"
   ]
  },
  {
   "cell_type": "code",
   "execution_count": 104,
   "id": "fa59bc8d-9fe3-4605-9199-ff65586a4695",
   "metadata": {},
   "outputs": [
    {
     "name": "stdout",
     "output_type": "stream",
     "text": [
      "[['THE', 'the', 3], ['QUICK', 'quick', 5], ['BROWN', 'brown', 5], ['FOX', 'fox', 3], ['JUMPS', 'jumps', 5], ['OVER', 'over', 4], ['THE', 'the', 3], ['LAZY', 'lazy', 4], ['DOG', 'dog', 3]]\n"
     ]
    }
   ],
   "source": [
    "print(d_results)"
   ]
  },
  {
   "cell_type": "code",
   "execution_count": 106,
   "id": "e08e27e1-6511-4f89-bbae-c99eedf0d073",
   "metadata": {},
   "outputs": [
    {
     "name": "stdout",
     "output_type": "stream",
     "text": [
      "['quick', 'brown', 'jumps', 'over', 'lazy']\n"
     ]
    }
   ],
   "source": [
    "print(e_results)"
   ]
  },
  {
   "cell_type": "code",
   "execution_count": null,
   "id": "91b3a25f-06a3-4a4e-b171-8282b22d15e5",
   "metadata": {},
   "outputs": [],
   "source": []
  }
 ],
 "metadata": {
  "kernelspec": {
   "display_name": "Python 3 (ipykernel)",
   "language": "python",
   "name": "python3"
  },
  "language_info": {
   "codemirror_mode": {
    "name": "ipython",
    "version": 3
   },
   "file_extension": ".py",
   "mimetype": "text/x-python",
   "name": "python",
   "nbconvert_exporter": "python",
   "pygments_lexer": "ipython3",
   "version": "3.12.4"
  }
 },
 "nbformat": 4,
 "nbformat_minor": 5
}
